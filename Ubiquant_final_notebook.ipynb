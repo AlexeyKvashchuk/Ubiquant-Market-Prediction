{
 "cells": [
  {
   "cell_type": "markdown",
   "metadata": {
    "id": "lIiZH7-3X75s",
    "papermill": {
     "duration": 0.016475,
     "end_time": "2022-01-25T15:39:01.467349",
     "exception": false,
     "start_time": "2022-01-25T15:39:01.450874",
     "status": "completed"
    },
    "tags": []
   },
   "source": [
    "#  **Ubiquant Market Prediction**\n"
   ]
  },
  {
   "cell_type": "markdown",
   "metadata": {
    "id": "jcvD5JJyQbjt"
   },
   "source": [
    "# Data Description\n",
    "\n",
    "https://www.kaggle.com/competitions/ubiquant-market-prediction/overview\n",
    "\n",
    "\n",
    "This dataset contains features derived from real historic data from thousands of investments. Your challenge is to predict the value of an obfuscated metric relevant for making trading decisions.\n",
    "\n",
    "This is a code competition that relies on a time-series API to ensure models do not peek forward in time. To use the API, follow the instructions on the Evaluation page. When you submit your notebook, it will be rerun on an unseen test. This is also a forecasting competition, where the final private leaderboard will be determined using data gathered after the training period closes.\n",
    "\n",
    "Files: train.csv\n",
    "\n",
    "***row_id*** - A unique identifier for the row.\n",
    "\n",
    "***time_id*** - The ID code for the time the data was gathered. The time IDs are in order, but the real time between the time IDs is not constant and will likely be shorter for the final private test set than in the training set.\n",
    "\n",
    "***investment_id*** - The ID code for an investment. Not all investment have data in all time IDs.\n",
    "\n",
    "***\\[f_0:f_299\\]*** - Anonymized features generated from market data.\n",
    "\n",
    "***target*** - The target."
   ]
  },
  {
   "cell_type": "markdown",
   "metadata": {
    "id": "M0203Tk0hCVG"
   },
   "source": [
    "# Evaluation\n",
    "\n",
    "This is a forecasting competition with an active training phase and a second period where models will be run against real market data.\n",
    "\n",
    "\n",
    "Submissions are evaluated on the mean of the Pearson correlation coefficient for each time ID.\n",
    "\n",
    "One must submit to this competition using the provided python time-series API, which ensures that models do not peek forward in time."
   ]
  },
  {
   "cell_type": "code",
   "execution_count": 2,
   "metadata": {
    "colab": {
     "base_uri": "https://localhost:8080/"
    },
    "executionInfo": {
     "elapsed": 17499,
     "status": "ok",
     "timestamp": 1650931651151,
     "user": {
      "displayName": "Alexei Kvaschuk",
      "userId": "17144558416028762237"
     },
     "user_tz": 240
    },
    "id": "r9JbZVs8YF6Z",
    "outputId": "00471bed-ebef-449c-ed16-da2097f5caf5"
   },
   "outputs": [
    {
     "name": "stdout",
     "output_type": "stream",
     "text": [
      "Mounted at /content/gdrive\n"
     ]
    }
   ],
   "source": [
    "from google.colab import drive\n",
    "drive.mount('/content/gdrive', force_remount=True)\n",
    "\n",
    "root_dir = \"/content/gdrive/My Drive/\"\n",
    "base_dir = root_dir + 'KAGGLE/Ubiquant/'"
   ]
  },
  {
   "cell_type": "code",
   "execution_count": 3,
   "metadata": {
    "execution": {
     "iopub.execute_input": "2022-02-18T04:57:47.825129Z",
     "iopub.status.busy": "2022-02-18T04:57:47.824275Z",
     "iopub.status.idle": "2022-02-18T04:57:53.446256Z",
     "shell.execute_reply": "2022-02-18T04:57:53.445399Z",
     "shell.execute_reply.started": "2022-02-18T04:57:47.825006Z"
    },
    "executionInfo": {
     "elapsed": 2382,
     "status": "ok",
     "timestamp": 1650931654012,
     "user": {
      "displayName": "Alexei Kvaschuk",
      "userId": "17144558416028762237"
     },
     "user_tz": 240
    },
    "id": "0ue4K6KNX75w",
    "papermill": {
     "duration": 7.781864,
     "end_time": "2022-01-25T15:39:09.265726",
     "exception": false,
     "start_time": "2022-01-25T15:39:01.483862",
     "status": "completed"
    },
    "tags": []
   },
   "outputs": [],
   "source": [
    "import os\n",
    "import pandas as pd\n",
    "import numpy as np\n",
    "import gc\n",
    "import matplotlib.pyplot as plt\n",
    "import tensorflow as tf\n",
    "from tensorflow.keras import layers\n",
    "from tensorflow import keras\n",
    "from scipy import stats"
   ]
  },
  {
   "cell_type": "code",
   "execution_count": null,
   "metadata": {
    "id": "zuN99Z5-YYEX"
   },
   "outputs": [],
   "source": [
    "# To match Kaggle's TF/Keras versions (as I train models on Google Colab's GPUs and then submit on Kaggle)\n",
    "\n",
    "!pip install tensorflow-gpu==2.6.2\n",
    "!pip install keras==2.6.0"
   ]
  },
  {
   "cell_type": "markdown",
   "metadata": {
    "id": "cGhtQ1nbX75y",
    "papermill": {
     "duration": 0.015291,
     "end_time": "2022-01-25T15:39:09.296817",
     "exception": false,
     "start_time": "2022-01-25T15:39:09.281526",
     "status": "completed"
    },
    "tags": []
   },
   "source": [
    "## Import dataset \n",
    "\n",
    "I use reduced precision to avoid memory issues (given the dataset size of ~3 million rows). \n",
    "\n",
    "i.e., data types are overrriden to\n",
    "\n",
    "data_types_dict = {\n",
    "    'time_id': 'int32',\n",
    "    'investment_id': 'int16',\n",
    "    \"target\": 'float16',\n",
    "} "
   ]
  },
  {
   "cell_type": "code",
   "execution_count": null,
   "metadata": {
    "execution": {
     "iopub.execute_input": "2022-02-18T04:57:53.450014Z",
     "iopub.status.busy": "2022-02-18T04:57:53.449812Z",
     "iopub.status.idle": "2022-02-18T04:58:09.982108Z",
     "shell.execute_reply": "2022-02-18T04:58:09.9814Z",
     "shell.execute_reply.started": "2022-02-18T04:57:53.449988Z"
    },
    "id": "tBDZPlSVX75y",
    "papermill": {
     "duration": 16.88418,
     "end_time": "2022-01-25T15:39:26.19638",
     "exception": false,
     "start_time": "2022-01-25T15:39:09.3122",
     "status": "completed"
    },
    "tags": []
   },
   "outputs": [],
   "source": [
    "%%time\n",
    "n_features = 300\n",
    "features = [f'f_{i}' for i in range(n_features)]\n",
    "train = pd.read_pickle(base_dir + 'train.pkl')"
   ]
  },
  {
   "cell_type": "markdown",
   "metadata": {
    "id": "TGh80q9iJwa3"
   },
   "source": [
    "There is a total of ~3m rows (len(train) = 3,141,410)."
   ]
  },
  {
   "cell_type": "code",
   "execution_count": 5,
   "metadata": {
    "colab": {
     "base_uri": "https://localhost:8080/",
     "height": 301
    },
    "executionInfo": {
     "elapsed": 7,
     "status": "ok",
     "timestamp": 1650931685692,
     "user": {
      "displayName": "Alexei Kvaschuk",
      "userId": "17144558416028762237"
     },
     "user_tz": 240
    },
    "id": "_WuNT_T7HFjl",
    "outputId": "0064a5ed-f2d3-4e11-c0b6-c6ec94307ebc"
   },
   "outputs": [
    {
     "data": {
      "text/html": [
       "\n",
       "  <div id=\"df-d9eff386-8bb8-404c-aa8e-9f8e814cae5d\">\n",
       "    <div class=\"colab-df-container\">\n",
       "      <div>\n",
       "<style scoped>\n",
       "    .dataframe tbody tr th:only-of-type {\n",
       "        vertical-align: middle;\n",
       "    }\n",
       "\n",
       "    .dataframe tbody tr th {\n",
       "        vertical-align: top;\n",
       "    }\n",
       "\n",
       "    .dataframe thead th {\n",
       "        text-align: right;\n",
       "    }\n",
       "</style>\n",
       "<table border=\"1\" class=\"dataframe\">\n",
       "  <thead>\n",
       "    <tr style=\"text-align: right;\">\n",
       "      <th></th>\n",
       "      <th>investment_id</th>\n",
       "      <th>time_id</th>\n",
       "      <th>f_0</th>\n",
       "      <th>f_1</th>\n",
       "      <th>f_2</th>\n",
       "      <th>f_3</th>\n",
       "      <th>f_4</th>\n",
       "      <th>f_5</th>\n",
       "      <th>f_6</th>\n",
       "      <th>f_7</th>\n",
       "      <th>...</th>\n",
       "      <th>f_291</th>\n",
       "      <th>f_292</th>\n",
       "      <th>f_293</th>\n",
       "      <th>f_294</th>\n",
       "      <th>f_295</th>\n",
       "      <th>f_296</th>\n",
       "      <th>f_297</th>\n",
       "      <th>f_298</th>\n",
       "      <th>f_299</th>\n",
       "      <th>target</th>\n",
       "    </tr>\n",
       "  </thead>\n",
       "  <tbody>\n",
       "    <tr>\n",
       "      <th>0</th>\n",
       "      <td>1</td>\n",
       "      <td>0</td>\n",
       "      <td>0.932617</td>\n",
       "      <td>0.113708</td>\n",
       "      <td>-0.402100</td>\n",
       "      <td>0.378418</td>\n",
       "      <td>-0.203979</td>\n",
       "      <td>-0.413574</td>\n",
       "      <td>0.965820</td>\n",
       "      <td>1.230469</td>\n",
       "      <td>...</td>\n",
       "      <td>-1.095703</td>\n",
       "      <td>0.200073</td>\n",
       "      <td>0.819336</td>\n",
       "      <td>0.941406</td>\n",
       "      <td>-0.086792</td>\n",
       "      <td>-1.086914</td>\n",
       "      <td>-1.044922</td>\n",
       "      <td>-0.287598</td>\n",
       "      <td>0.321533</td>\n",
       "      <td>-0.300781</td>\n",
       "    </tr>\n",
       "    <tr>\n",
       "      <th>1</th>\n",
       "      <td>2</td>\n",
       "      <td>0</td>\n",
       "      <td>0.811035</td>\n",
       "      <td>-0.514160</td>\n",
       "      <td>0.742188</td>\n",
       "      <td>-0.616699</td>\n",
       "      <td>-0.194214</td>\n",
       "      <td>1.771484</td>\n",
       "      <td>1.427734</td>\n",
       "      <td>1.133789</td>\n",
       "      <td>...</td>\n",
       "      <td>0.912598</td>\n",
       "      <td>-0.734375</td>\n",
       "      <td>0.819336</td>\n",
       "      <td>0.941406</td>\n",
       "      <td>-0.387695</td>\n",
       "      <td>-1.086914</td>\n",
       "      <td>-0.929688</td>\n",
       "      <td>-0.974121</td>\n",
       "      <td>-0.343506</td>\n",
       "      <td>-0.231079</td>\n",
       "    </tr>\n",
       "    <tr>\n",
       "      <th>2</th>\n",
       "      <td>6</td>\n",
       "      <td>0</td>\n",
       "      <td>0.394043</td>\n",
       "      <td>0.615723</td>\n",
       "      <td>0.567871</td>\n",
       "      <td>-0.607910</td>\n",
       "      <td>0.068909</td>\n",
       "      <td>-1.083008</td>\n",
       "      <td>0.979492</td>\n",
       "      <td>-1.125977</td>\n",
       "      <td>...</td>\n",
       "      <td>0.912598</td>\n",
       "      <td>-0.551758</td>\n",
       "      <td>-1.220703</td>\n",
       "      <td>-1.060547</td>\n",
       "      <td>-0.219116</td>\n",
       "      <td>-1.086914</td>\n",
       "      <td>-0.612305</td>\n",
       "      <td>-0.113953</td>\n",
       "      <td>0.243652</td>\n",
       "      <td>0.568848</td>\n",
       "    </tr>\n",
       "    <tr>\n",
       "      <th>3</th>\n",
       "      <td>7</td>\n",
       "      <td>0</td>\n",
       "      <td>-2.343750</td>\n",
       "      <td>-0.011871</td>\n",
       "      <td>1.875000</td>\n",
       "      <td>-0.606445</td>\n",
       "      <td>-0.586914</td>\n",
       "      <td>-0.815918</td>\n",
       "      <td>0.778320</td>\n",
       "      <td>0.299072</td>\n",
       "      <td>...</td>\n",
       "      <td>0.912598</td>\n",
       "      <td>-0.266357</td>\n",
       "      <td>-1.220703</td>\n",
       "      <td>0.941406</td>\n",
       "      <td>-0.608887</td>\n",
       "      <td>0.104919</td>\n",
       "      <td>-0.783203</td>\n",
       "      <td>1.151367</td>\n",
       "      <td>-0.773438</td>\n",
       "      <td>-1.064453</td>\n",
       "    </tr>\n",
       "    <tr>\n",
       "      <th>4</th>\n",
       "      <td>8</td>\n",
       "      <td>0</td>\n",
       "      <td>0.842285</td>\n",
       "      <td>-0.262939</td>\n",
       "      <td>2.330078</td>\n",
       "      <td>-0.583496</td>\n",
       "      <td>-0.618164</td>\n",
       "      <td>-0.742676</td>\n",
       "      <td>-0.946777</td>\n",
       "      <td>1.230469</td>\n",
       "      <td>...</td>\n",
       "      <td>0.912598</td>\n",
       "      <td>-0.741211</td>\n",
       "      <td>-1.220703</td>\n",
       "      <td>0.941406</td>\n",
       "      <td>-0.588379</td>\n",
       "      <td>0.104919</td>\n",
       "      <td>0.753418</td>\n",
       "      <td>1.345703</td>\n",
       "      <td>-0.737793</td>\n",
       "      <td>-0.531738</td>\n",
       "    </tr>\n",
       "  </tbody>\n",
       "</table>\n",
       "<p>5 rows × 303 columns</p>\n",
       "</div>\n",
       "      <button class=\"colab-df-convert\" onclick=\"convertToInteractive('df-d9eff386-8bb8-404c-aa8e-9f8e814cae5d')\"\n",
       "              title=\"Convert this dataframe to an interactive table.\"\n",
       "              style=\"display:none;\">\n",
       "        \n",
       "  <svg xmlns=\"http://www.w3.org/2000/svg\" height=\"24px\"viewBox=\"0 0 24 24\"\n",
       "       width=\"24px\">\n",
       "    <path d=\"M0 0h24v24H0V0z\" fill=\"none\"/>\n",
       "    <path d=\"M18.56 5.44l.94 2.06.94-2.06 2.06-.94-2.06-.94-.94-2.06-.94 2.06-2.06.94zm-11 1L8.5 8.5l.94-2.06 2.06-.94-2.06-.94L8.5 2.5l-.94 2.06-2.06.94zm10 10l.94 2.06.94-2.06 2.06-.94-2.06-.94-.94-2.06-.94 2.06-2.06.94z\"/><path d=\"M17.41 7.96l-1.37-1.37c-.4-.4-.92-.59-1.43-.59-.52 0-1.04.2-1.43.59L10.3 9.45l-7.72 7.72c-.78.78-.78 2.05 0 2.83L4 21.41c.39.39.9.59 1.41.59.51 0 1.02-.2 1.41-.59l7.78-7.78 2.81-2.81c.8-.78.8-2.07 0-2.86zM5.41 20L4 18.59l7.72-7.72 1.47 1.35L5.41 20z\"/>\n",
       "  </svg>\n",
       "      </button>\n",
       "      \n",
       "  <style>\n",
       "    .colab-df-container {\n",
       "      display:flex;\n",
       "      flex-wrap:wrap;\n",
       "      gap: 12px;\n",
       "    }\n",
       "\n",
       "    .colab-df-convert {\n",
       "      background-color: #E8F0FE;\n",
       "      border: none;\n",
       "      border-radius: 50%;\n",
       "      cursor: pointer;\n",
       "      display: none;\n",
       "      fill: #1967D2;\n",
       "      height: 32px;\n",
       "      padding: 0 0 0 0;\n",
       "      width: 32px;\n",
       "    }\n",
       "\n",
       "    .colab-df-convert:hover {\n",
       "      background-color: #E2EBFA;\n",
       "      box-shadow: 0px 1px 2px rgba(60, 64, 67, 0.3), 0px 1px 3px 1px rgba(60, 64, 67, 0.15);\n",
       "      fill: #174EA6;\n",
       "    }\n",
       "\n",
       "    [theme=dark] .colab-df-convert {\n",
       "      background-color: #3B4455;\n",
       "      fill: #D2E3FC;\n",
       "    }\n",
       "\n",
       "    [theme=dark] .colab-df-convert:hover {\n",
       "      background-color: #434B5C;\n",
       "      box-shadow: 0px 1px 3px 1px rgba(0, 0, 0, 0.15);\n",
       "      filter: drop-shadow(0px 1px 2px rgba(0, 0, 0, 0.3));\n",
       "      fill: #FFFFFF;\n",
       "    }\n",
       "  </style>\n",
       "\n",
       "      <script>\n",
       "        const buttonEl =\n",
       "          document.querySelector('#df-d9eff386-8bb8-404c-aa8e-9f8e814cae5d button.colab-df-convert');\n",
       "        buttonEl.style.display =\n",
       "          google.colab.kernel.accessAllowed ? 'block' : 'none';\n",
       "\n",
       "        async function convertToInteractive(key) {\n",
       "          const element = document.querySelector('#df-d9eff386-8bb8-404c-aa8e-9f8e814cae5d');\n",
       "          const dataTable =\n",
       "            await google.colab.kernel.invokeFunction('convertToInteractive',\n",
       "                                                     [key], {});\n",
       "          if (!dataTable) return;\n",
       "\n",
       "          const docLinkHtml = 'Like what you see? Visit the ' +\n",
       "            '<a target=\"_blank\" href=https://colab.research.google.com/notebooks/data_table.ipynb>data table notebook</a>'\n",
       "            + ' to learn more about interactive tables.';\n",
       "          element.innerHTML = '';\n",
       "          dataTable['output_type'] = 'display_data';\n",
       "          await google.colab.output.renderOutput(dataTable, element);\n",
       "          const docLink = document.createElement('div');\n",
       "          docLink.innerHTML = docLinkHtml;\n",
       "          element.appendChild(docLink);\n",
       "        }\n",
       "      </script>\n",
       "    </div>\n",
       "  </div>\n",
       "  "
      ],
      "text/plain": [
       "   investment_id  time_id       f_0       f_1       f_2       f_3       f_4  \\\n",
       "0              1        0  0.932617  0.113708 -0.402100  0.378418 -0.203979   \n",
       "1              2        0  0.811035 -0.514160  0.742188 -0.616699 -0.194214   \n",
       "2              6        0  0.394043  0.615723  0.567871 -0.607910  0.068909   \n",
       "3              7        0 -2.343750 -0.011871  1.875000 -0.606445 -0.586914   \n",
       "4              8        0  0.842285 -0.262939  2.330078 -0.583496 -0.618164   \n",
       "\n",
       "        f_5       f_6       f_7  ...     f_291     f_292     f_293     f_294  \\\n",
       "0 -0.413574  0.965820  1.230469  ... -1.095703  0.200073  0.819336  0.941406   \n",
       "1  1.771484  1.427734  1.133789  ...  0.912598 -0.734375  0.819336  0.941406   \n",
       "2 -1.083008  0.979492 -1.125977  ...  0.912598 -0.551758 -1.220703 -1.060547   \n",
       "3 -0.815918  0.778320  0.299072  ...  0.912598 -0.266357 -1.220703  0.941406   \n",
       "4 -0.742676 -0.946777  1.230469  ...  0.912598 -0.741211 -1.220703  0.941406   \n",
       "\n",
       "      f_295     f_296     f_297     f_298     f_299    target  \n",
       "0 -0.086792 -1.086914 -1.044922 -0.287598  0.321533 -0.300781  \n",
       "1 -0.387695 -1.086914 -0.929688 -0.974121 -0.343506 -0.231079  \n",
       "2 -0.219116 -1.086914 -0.612305 -0.113953  0.243652  0.568848  \n",
       "3 -0.608887  0.104919 -0.783203  1.151367 -0.773438 -1.064453  \n",
       "4 -0.588379  0.104919  0.753418  1.345703 -0.737793 -0.531738  \n",
       "\n",
       "[5 rows x 303 columns]"
      ]
     },
     "execution_count": 5,
     "metadata": {},
     "output_type": "execute_result"
    }
   ],
   "source": [
    "train.head()"
   ]
  },
  {
   "cell_type": "markdown",
   "metadata": {
    "id": "CD1YKklxhjBQ"
   },
   "source": [
    "# Some light EDA"
   ]
  },
  {
   "cell_type": "markdown",
   "metadata": {
    "id": "Tbe9-6mEGUnM"
   },
   "source": [
    "The dataset contains 300 anonymous (i.e. no description) features, *investment_id*, and target that is also anonymized (float) value."
   ]
  },
  {
   "cell_type": "markdown",
   "metadata": {
    "id": "gNZgNu6JHm0l"
   },
   "source": [
    "The *target* values look normal without apparent outliers/heavy tails.  "
   ]
  },
  {
   "cell_type": "code",
   "execution_count": 7,
   "metadata": {
    "colab": {
     "base_uri": "https://localhost:8080/",
     "height": 357
    },
    "executionInfo": {
     "elapsed": 1068,
     "status": "ok",
     "timestamp": 1650913586015,
     "user": {
      "displayName": "Alexei Kvaschuk",
      "userId": "17144558416028762237"
     },
     "user_tz": 240
    },
    "id": "Mt5CbQjPHchn",
    "outputId": "6b9b2bfb-16a4-465f-e3f5-aed4f3c25ccd"
   },
   "outputs": [
    {
     "data": {
      "text/plain": [
       "<matplotlib.axes._subplots.AxesSubplot at 0x7f5ebf7c0910>"
      ]
     },
     "execution_count": 7,
     "metadata": {},
     "output_type": "execute_result"
    },
    {
     "data": {
      "image/png": "[encoded data removed]",
      "text/plain": [
       "<Figure size 720x360 with 1 Axes>"
      ]
     },
     "metadata": {
      "needs_background": "light"
     },
     "output_type": "display_data"
    }
   ],
   "source": [
    "train['target'].hist(bins = 100, figsize = (10, 5))"
   ]
  },
  {
   "cell_type": "markdown",
   "metadata": {
    "id": "f-xzDLWZIgv4"
   },
   "source": [
    "In total, there are 3,500 *investment_id*s (train_df['investment_id'].nunique() = 3579).\n",
    "\n",
    "Examine distributions of targets for a few random *investment_id*s.\n",
    "\n",
    "Again, nothing outstanding, so no additional data transformations applied. "
   ]
  },
  {
   "cell_type": "code",
   "execution_count": 13,
   "metadata": {
    "colab": {
     "base_uri": "https://localhost:8080/",
     "height": 340
    },
    "executionInfo": {
     "elapsed": 1335,
     "status": "ok",
     "timestamp": 1650914514782,
     "user": {
      "displayName": "Alexei Kvaschuk",
      "userId": "17144558416028762237"
     },
     "user_tz": 240
    },
    "id": "El5k7zJTIHF5",
    "outputId": "1865af7e-52fe-46e1-b4ad-f7c64a384c98"
   },
   "outputs": [
    {
     "data": {
      "image/png": "[encoded data removed]",
      "text/plain": [
       "<Figure size 720x360 with 1 Axes>"
      ]
     },
     "metadata": {
      "needs_background": "light"
     },
     "output_type": "display_data"
    }
   ],
   "source": [
    "for f in np.random.choice(train['investment_id'].unique(), 5):\n",
    "    train[train['investment_id'] == f]['target'].hist(bins = 100, alpha = 0.2, figsize = (10,5))"
   ]
  },
  {
   "cell_type": "markdown",
   "metadata": {
    "id": "PCzP2UfFjIi1"
   },
   "source": [
    "I have tried reducing feature set by first running LighGBM and picking the top N features by feature importance (i.e. lightgbm.plot_importance(lgbm, figsize = (30, 60))). \n",
    "But this didn't seem to help. So all 300 features were used in the final version. \n",
    "\n"
   ]
  },
  {
   "cell_type": "markdown",
   "metadata": {
    "id": "felWn0DgLmIE"
   },
   "source": [
    "## *investment_id*\n",
    "\n",
    "As can be seen below, the data is imbalanced with some IDs under-represented. Moreover, the test set (on which Leaderboard scores are determined)  <u> might include IDs that are not present in the training set</u>.\n",
    "\n",
    "I therefore stratify the data by *investment_id* when doing StratifiedKFold, as well as create an OOV token (to capture unseen IDs and to group/train together IDs with insuffcient data). "
   ]
  },
  {
   "cell_type": "code",
   "execution_count": 7,
   "metadata": {
    "colab": {
     "base_uri": "https://localhost:8080/",
     "height": 644
    },
    "executionInfo": {
     "elapsed": 31343,
     "status": "ok",
     "timestamp": 1650933267847,
     "user": {
      "displayName": "Alexei Kvaschuk",
      "userId": "17144558416028762237"
     },
     "user_tz": 240
    },
    "id": "cOPh-B3zLUe6",
    "outputId": "88f51f8f-ba3e-4d82-b5f7-a4f9e96fe0a7"
   },
   "outputs": [
    {
     "data": {
      "text/plain": [
       "<matplotlib.axes._subplots.AxesSubplot at 0x7f0b9a501550>"
      ]
     },
     "execution_count": 7,
     "metadata": {},
     "output_type": "execute_result"
    },
    {
     "data": {
      "image/png": "[encoded data removed]",
      "text/plain": [
       "<Figure size 1440x720 with 1 Axes>"
      ]
     },
     "metadata": {
      "needs_background": "light"
     },
     "output_type": "display_data"
    }
   ],
   "source": [
    "train['investment_id'].value_counts().plot(kind = 'bar',figsize = (20,10))"
   ]
  },
  {
   "cell_type": "code",
   "execution_count": null,
   "metadata": {
    "id": "C2JznKwOIYQB"
   },
   "outputs": [],
   "source": [
    "investment_id = train.pop(\"investment_id\")\n",
    "investment_id.head()"
   ]
  },
  {
   "cell_type": "markdown",
   "metadata": {
    "id": "GhmWs457WacR"
   },
   "source": [
    "# *time_id*"
   ]
  },
  {
   "cell_type": "markdown",
   "metadata": {
    "id": "fNA4ra8-VqEb"
   },
   "source": [
    "As most participants in this competition, I discard *time_id* given that the real time between the time IDs is not constant and will likely be shorter for the final private test set than in the training set. \n",
    "The latter makes it difficult to make use of any sequential structure in the data. \n",
    "All attempts to try RNN-like models or to use *time_id* feature in any way do not seem to help. \n",
    "In the end, the data is treated as tabular, so that most common approaches that are tried by participants are all sorts of boosting models (XGBoost/LightGBM) as well as variations of DNNs (the approach I use below)."
   ]
  },
  {
   "cell_type": "code",
   "execution_count": null,
   "metadata": {
    "id": "JCJ6B_QLIYUz"
   },
   "outputs": [],
   "source": [
    "_ = train.pop(\"time_id\")"
   ]
  },
  {
   "cell_type": "code",
   "execution_count": null,
   "metadata": {
    "colab": {
     "base_uri": "https://localhost:8080/"
    },
    "execution": {
     "iopub.execute_input": "2022-02-18T04:58:10.026764Z",
     "iopub.status.busy": "2022-02-18T04:58:10.02619Z",
     "iopub.status.idle": "2022-02-18T04:58:10.043181Z",
     "shell.execute_reply": "2022-02-18T04:58:10.042511Z",
     "shell.execute_reply.started": "2022-02-18T04:58:10.026735Z"
    },
    "executionInfo": {
     "elapsed": 13,
     "status": "ok",
     "timestamp": 1649551890099,
     "user": {
      "displayName": "Alexei Kvaschuk",
      "userId": "17144558416028762237"
     },
     "user_tz": 240
    },
    "id": "_onzRIKiX75z",
    "outputId": "86af1e35-43d2-4284-e148-c907a6b07455",
    "papermill": {
     "duration": 0.04224,
     "end_time": "2022-01-25T15:39:26.375506",
     "exception": false,
     "start_time": "2022-01-25T15:39:26.333266",
     "status": "completed"
    },
    "tags": []
   },
   "outputs": [
    {
     "data": {
      "text/plain": [
       "0   -0.300781\n",
       "1   -0.231079\n",
       "2    0.568848\n",
       "3   -1.064453\n",
       "4   -0.531738\n",
       "Name: target, dtype: float16"
      ]
     },
     "execution_count": 6,
     "metadata": {},
     "output_type": "execute_result"
    }
   ],
   "source": [
    "y = train.pop(\"target\")\n",
    "y.head()"
   ]
  },
  {
   "cell_type": "markdown",
   "metadata": {
    "id": "lRnqq3AaX750",
    "papermill": {
     "duration": 0.016633,
     "end_time": "2022-01-25T15:39:26.408785",
     "exception": false,
     "start_time": "2022-01-25T15:39:26.392152",
     "status": "completed"
    },
    "tags": []
   },
   "source": [
    "## Create an IntegerLookup layer for investment_id input to be used to create dense Embeddings for each ID. \n",
    "\n",
    "See [IntegerLookup in Tensorflow](https://www.tensorflow.org/api_docs/python/tf/keras/layers/IntegerLookup)\n",
    "\n",
    "Since \n",
    "\n",
    "a.   some *investment_id*s don't have much data and\n",
    "\n",
    "b.   the test set (unseen/Leaderboard) might include IDs that are not present in the training set,\n",
    "\n",
    "we create an OOV-like bucket. "
   ]
  },
  {
   "cell_type": "code",
   "execution_count": null,
   "metadata": {
    "execution": {
     "iopub.execute_input": "2022-02-18T04:58:10.0461Z",
     "iopub.status.busy": "2022-02-18T04:58:10.045906Z",
     "iopub.status.idle": "2022-02-18T04:58:12.809247Z",
     "shell.execute_reply": "2022-02-18T04:58:12.808431Z",
     "shell.execute_reply.started": "2022-02-18T04:58:10.046077Z"
    },
    "id": "_w9VMsVaX750",
    "papermill": {
     "duration": 4.105382,
     "end_time": "2022-01-25T15:39:30.530653",
     "exception": false,
     "start_time": "2022-01-25T15:39:26.425271",
     "status": "completed"
    },
    "tags": []
   },
   "outputs": [],
   "source": [
    "%%time\n",
    "num_tokens = (len(list(investment_id.unique())) - 800) # 800 least frequent investmen_ids will be considered OOV and grouped together during training.\n",
    "investment_ids = list(investment_id.unique())\n",
    "investment_id_size = len(investment_ids) + 1\n",
    "investment_id_lookup_layer = layers.IntegerLookup(max_tokens = num_tokens)\n",
    "investment_id_lookup_layer.adapt(pd.DataFrame({\"investment_ids\":investment_ids}))"
   ]
  },
  {
   "cell_type": "markdown",
   "metadata": {
    "id": "3gspTRezX751",
    "papermill": {
     "duration": 0.018846,
     "end_time": "2022-01-25T15:39:30.567495",
     "exception": false,
     "start_time": "2022-01-25T15:39:30.548649",
     "status": "completed"
    },
    "tags": []
   },
   "source": [
    "## Make Tensorflow dataset"
   ]
  },
  {
   "cell_type": "code",
   "execution_count": null,
   "metadata": {
    "execution": {
     "iopub.execute_input": "2022-02-18T04:58:12.811458Z",
     "iopub.status.busy": "2022-02-18T04:58:12.810695Z",
     "iopub.status.idle": "2022-02-18T04:58:12.818509Z",
     "shell.execute_reply": "2022-02-18T04:58:12.817557Z",
     "shell.execute_reply.started": "2022-02-18T04:58:12.81142Z"
    },
    "id": "b6tzDGMfX751",
    "papermill": {
     "duration": 0.02858,
     "end_time": "2022-01-25T15:39:30.614302",
     "exception": false,
     "start_time": "2022-01-25T15:39:30.585722",
     "status": "completed"
    },
    "tags": []
   },
   "outputs": [],
   "source": [
    "import tensorflow as tf\n",
    "def preprocess(X, y):\n",
    "    return X, y\n",
    "\n",
    "batch_size = 1024 * 4\n",
    "shuffle = 4096 * 8\n",
    "  \n",
    "def make_dataset(feature, investment_id, y, batch_size = batch_size, mode=\"train\"):\n",
    "    ds = tf.data.Dataset.from_tensor_slices(((investment_id, feature), y))\n",
    "    ds = ds.map(preprocess)\n",
    "    if mode == \"train\":\n",
    "        ds = ds.shuffle(shuffle)\n",
    "    ds = ds.batch(batch_size).cache().prefetch(tf.data.experimental.AUTOTUNE)\n",
    "    return ds"
   ]
  },
  {
   "cell_type": "code",
   "execution_count": null,
   "metadata": {
    "id": "5ZG8RdBJ2Irg"
   },
   "outputs": [],
   "source": [
    "# I have tried using correlation as a loss, since submissions are evaluated on the mean of the Pearson correlation coefficient for each time ID.\n",
    "# This didn't work better than using loss = 'mse', though...\n",
    "\n",
    "def pearson_correlation(y_true, y_pred, axis=-1):\n",
    "    y_true = y_true-tf.reduce_mean(y_true)\n",
    "    y_pred = y_pred-tf.reduce_mean(y_pred)\n",
    "    y_true = tf.linalg.l2_normalize(y_true, axis=axis)\n",
    "    y_pred = tf.linalg.l2_normalize(y_pred, axis=axis)\n",
    "    return 1 - tf.reduce_sum(y_true * y_pred, axis=axis)\n",
    "\n",
    "# See: https://www.tensorflow.org/api_docs/python/tf/keras/losses/cosine_similarity\n",
    "\n",
    "def pearson_correlation_loss(y_true, y_pred, axis=-1):\n",
    "    y_true = y_true-tf.reduce_mean(y_true)\n",
    "    y_pred = y_pred-tf.reduce_mean(y_pred)\n",
    "    cosine = keras.losses.cosine_similarity(y_true, y_pred, axis=axis)\n",
    "    return cosine"
   ]
  },
  {
   "cell_type": "markdown",
   "metadata": {
    "id": "NSm0ODBAX752",
    "papermill": {
     "duration": 0.017564,
     "end_time": "2022-01-25T15:39:30.64918",
     "exception": false,
     "start_time": "2022-01-25T15:39:30.631616",
     "status": "completed"
    },
    "tags": []
   },
   "source": [
    "## Model\n",
    "\n",
    "The below is a relatively standard approach to dealing with mixed (categorical + numerical) tabular regression task of this kind. \n",
    "First, categorical feature is vectorized via an Embedding layer (OOV 'token' is used to account for unseen IDs in the test data, as well as to group together training IDs with low data count). \n",
    "\n",
    "Two variants are common then: Either concatenate ID embedding with 300 numerial features and process those with fully-connected layers, OR first process embedding vector with a FCNN, then process numerical features with FCNN, and then concatenate the resulting vector and proces further with a single or a few more layers, followed by the final output layer. \n",
    "\n",
    "I use the latter approach as it gives better results. \n",
    "See a *plot_model* diagram below. "
   ]
  },
  {
   "cell_type": "code",
   "execution_count": null,
   "metadata": {
    "execution": {
     "iopub.execute_input": "2022-02-18T04:58:12.820186Z",
     "iopub.status.busy": "2022-02-18T04:58:12.819873Z",
     "iopub.status.idle": "2022-02-18T04:58:12.836186Z",
     "shell.execute_reply": "2022-02-18T04:58:12.835339Z",
     "shell.execute_reply.started": "2022-02-18T04:58:12.820151Z"
    },
    "id": "15x9sGl2X752",
    "papermill": {
     "duration": 0.033569,
     "end_time": "2022-01-25T15:39:30.700649",
     "exception": false,
     "start_time": "2022-01-25T15:39:30.66708",
     "status": "completed"
    },
    "tags": []
   },
   "outputs": [],
   "source": [
    "loss = 'mse' #pearson_correlation #'mse'\n",
    "\n",
    "def get_model():\n",
    "    investment_id_inputs = tf.keras.Input((1, ), dtype=tf.uint16)\n",
    "    features_inputs = tf.keras.Input((300, ), dtype=tf.float16)\n",
    "    # Have also tried dropping out features (given a high dimensionality (300 features))\n",
    "    # features_inputs_dr = layers.Dropout(0.2)(features_inputs)\n",
    "\n",
    "    # The FCNN block below processes investment_id features\n",
    "    # All non-linear layers below use 'swish' as an activation function. \n",
    "    # This activation is used often in Kaggle and it generally does seem to give better results (I've tried other variants (RELU/leaky RELU) as well).\n",
    "\n",
    "    investment_id_x = investment_id_lookup_layer(investment_id_inputs)\n",
    "    investment_id_x = layers.Embedding(num_tokens, 32, input_length = 1)(investment_id_x)\n",
    "    investment_id_x = layers.Reshape((-1, ))(investment_id_x)\n",
    "    investment_id_x = layers.Dense(64, activation='swish')(investment_id_x)\n",
    "    investment_id_x = layers.Dropout(0.5)(investment_id_x)#, training = True)\n",
    "    investment_id_x = layers.Dense(64, activation='swish')(investment_id_x)\n",
    "\n",
    "    # The FCNN block below processes f_i features (i = 1, ..., 300)\n",
    "    feature_x = layers.Dense(256, activation='swish')(features_inputs)\n",
    "    feature_x = layers.Dropout(0.5)(feature_x)#, training = True)\n",
    "    feature_x = layers.Dense(256, activation='swish')(feature_x)\n",
    "\n",
    "    # Concatenated and processed with a single layer\n",
    "    x = layers.Concatenate(axis=1)([investment_id_x, feature_x])\n",
    "\n",
    "    # L2 regularization usually works well on the final layer (default value for penalty l2 = 0.01)\n",
    "    x = layers.Dense(512, activation='swish', kernel_regularizer=\"l2\")(x)\n",
    "\n",
    "    # Output layer\n",
    "    output = layers.Dense(1)(x)\n",
    "    rmse = keras.metrics.RootMeanSquaredError(name=\"rmse\")\n",
    "    model = tf.keras.Model(inputs=[investment_id_inputs, features_inputs], outputs=[output])\n",
    "    model.compile(optimizer=tf.optimizers.Adam(0.001), loss = loss, metrics=['mse'])\n",
    "    return model"
   ]
  },
  {
   "cell_type": "code",
   "execution_count": null,
   "metadata": {
    "colab": {
     "base_uri": "https://localhost:8080/",
     "height": 1000
    },
    "execution": {
     "iopub.execute_input": "2022-02-18T04:58:12.839824Z",
     "iopub.status.busy": "2022-02-18T04:58:12.839593Z",
     "iopub.status.idle": "2022-02-18T04:58:13.819723Z",
     "shell.execute_reply": "2022-02-18T04:58:13.815572Z",
     "shell.execute_reply.started": "2022-02-18T04:58:12.839798Z"
    },
    "executionInfo": {
     "elapsed": 233,
     "status": "ok",
     "timestamp": 1649552151090,
     "user": {
      "displayName": "Alexei Kvaschuk",
      "userId": "17144558416028762237"
     },
     "user_tz": 240
    },
    "id": "tw2YwIIcX753",
    "outputId": "8670d265-7530-49f1-941b-28e00eb56cb7",
    "papermill": {
     "duration": 0.209912,
     "end_time": "2022-01-25T15:39:30.929112",
     "exception": false,
     "start_time": "2022-01-25T15:39:30.7192",
     "status": "completed"
    },
    "tags": []
   },
   "outputs": [
    {
     "name": "stdout",
     "output_type": "stream",
     "text": [
      "Model: \"model_4\"\n",
      "__________________________________________________________________________________________________\n",
      "Layer (type)                    Output Shape         Param #     Connected to                     \n",
      "==================================================================================================\n",
      "input_9 (InputLayer)            [(None, 1)]          0                                            \n",
      "__________________________________________________________________________________________________\n",
      "integer_lookup (IntegerLookup)  (None, 1)            0           input_9[0][0]                    \n",
      "__________________________________________________________________________________________________\n",
      "embedding_4 (Embedding)         (None, 1, 32)        88928       integer_lookup[4][0]             \n",
      "__________________________________________________________________________________________________\n",
      "reshape_4 (Reshape)             (None, 32)           0           embedding_4[0][0]                \n",
      "__________________________________________________________________________________________________\n",
      "input_10 (InputLayer)           [(None, 300)]        0                                            \n",
      "__________________________________________________________________________________________________\n",
      "dense_29 (Dense)                (None, 64)           2112        reshape_4[0][0]                  \n",
      "__________________________________________________________________________________________________\n",
      "dense_31 (Dense)                (None, 256)          77056       input_10[0][0]                   \n",
      "__________________________________________________________________________________________________\n",
      "dropout_8 (Dropout)             (None, 64)           0           dense_29[0][0]                   \n",
      "__________________________________________________________________________________________________\n",
      "dropout_9 (Dropout)             (None, 256)          0           dense_31[0][0]                   \n",
      "__________________________________________________________________________________________________\n",
      "dense_30 (Dense)                (None, 64)           4160        dropout_8[0][0]                  \n",
      "__________________________________________________________________________________________________\n",
      "dense_32 (Dense)                (None, 256)          65792       dropout_9[0][0]                  \n",
      "__________________________________________________________________________________________________\n",
      "concatenate_4 (Concatenate)     (None, 320)          0           dense_30[0][0]                   \n",
      "                                                                 dense_32[0][0]                   \n",
      "__________________________________________________________________________________________________\n",
      "dense_33 (Dense)                (None, 512)          164352      concatenate_4[0][0]              \n",
      "__________________________________________________________________________________________________\n",
      "dense_34 (Dense)                (None, 1)            513         dense_33[0][0]                   \n",
      "==================================================================================================\n",
      "Total params: 402,913\n",
      "Trainable params: 402,913\n",
      "Non-trainable params: 0\n",
      "__________________________________________________________________________________________________\n"
     ]
    },
    {
     "data": {
      "image/png": "[encoded data removed]",
      "text/plain": [
       "<IPython.core.display.Image object>"
      ]
     },
     "execution_count": 18,
     "metadata": {},
     "output_type": "execute_result"
    }
   ],
   "source": [
    "model = get_model()\n",
    "model.summary()\n",
    "keras.utils.plot_model(model, show_shapes=True)"
   ]
  },
  {
   "cell_type": "markdown",
   "metadata": {
    "id": "Ur39REUcYJOY"
   },
   "source": [
    "# Training\n",
    "\n",
    "I use k-fold stratified CV. Stratifying by *investmend_id*, as well as using 5 folds, gives the best results. I then train and average 5 models to use for a submission.\n",
    "\n",
    "I have tried more sophisticated approaches, but decided not to 'abuse' the Leaderboard too much as there is a risk of overfitting (the final rankings will be based on the new/private data that will be updated bi-weekly until mid July 2022).  "
   ]
  },
  {
   "cell_type": "code",
   "execution_count": null,
   "metadata": {
    "execution": {
     "iopub.execute_input": "2022-02-18T04:58:34.51686Z",
     "iopub.status.busy": "2022-02-18T04:58:34.516048Z",
     "iopub.status.idle": "2022-02-18T05:09:20.454974Z",
     "shell.execute_reply": "2022-02-18T05:09:20.454173Z",
     "shell.execute_reply.started": "2022-02-18T04:58:34.516815Z"
    },
    "id": "Np3Xx6l6X753",
    "papermill": {
     "duration": 471.71946,
     "end_time": "2022-01-25T15:47:23.749584",
     "exception": false,
     "start_time": "2022-01-25T15:39:32.030124",
     "status": "completed"
    },
    "tags": []
   },
   "outputs": [],
   "source": [
    "%%time\n",
    "\n",
    "models = []\n",
    "seeds = list(range(42, 43))\n",
    "\n",
    "for seed in seeds:\n",
    "\n",
    "  from sklearn.model_selection import StratifiedKFold\n",
    "  kfold = StratifiedKFold(5, shuffle=True, random_state = seed)\n",
    "\n",
    "  for index, (train_indices, valid_indices) in enumerate(kfold.split(train, investment_id)):\n",
    "      X_train, X_val = train.iloc[train_indices], train.iloc[valid_indices]\n",
    "      investment_id_train = investment_id[train_indices]\n",
    "      y_train, y_val = y.iloc[train_indices], y.iloc[valid_indices]\n",
    "      investment_id_val = investment_id[valid_indices]\n",
    "      train_ds = make_dataset(X_train, investment_id_train, y_train)\n",
    "      valid_ds = make_dataset(X_val, investment_id_val, y_val, mode=\"valid\")\n",
    "      model = get_model()\n",
    "      checkpoint = keras.callbacks.ModelCheckpoint(f\"model_{index}\", save_best_only=True)\n",
    "      early_stop = keras.callbacks.EarlyStopping(patience=20)\n",
    "      rlrop = keras.callbacks.ReduceLROnPlateau(monitor='val_loss', factor=0.95, patience = 3, verbose=1)\n",
    "      history = model.fit(train_ds, epochs=150, validation_data=valid_ds, callbacks=[checkpoint, early_stop, rlrop])\n",
    "      model = keras.models.load_model(f\"model_{index}\")#, custom_objects={'pearson_correlation_loss' : pearson_correlation_loss, 'pearson_correlation' : pearson_correlation})\n",
    "      models.append(model)\n",
    "      \n",
    "      pearson_score = stats.pearsonr(model.predict(valid_ds).ravel(), y_val.values)[0]\n",
    "      print('Pearson:', pearson_score)\n",
    "      #pd.DataFrame(history.history, columns=[\"mse\", \"val_mse\"]).plot()\n",
    "      pd.DataFrame(history.history, columns=[\"loss\", \"val_loss\"]).plot()\n",
    "      plt.title(\"MSE\")\n",
    "      plt.show()\n",
    "      #pd.DataFrame(history.history, columns=[\"mae\", \"val_mae\"]).plot()\n",
    "      # plt.title(\"MAE\")\n",
    "      # plt.show()\n",
    "      # pd.DataFrame(history.history, columns=[\"rmse\", \"val_rmse\"]).plot()\n",
    "      # plt.title(\"RMSE\")\n",
    "      #plt.show()\n",
    "      del investment_id_train\n",
    "      del investment_id_val\n",
    "      del X_train\n",
    "      del X_val\n",
    "      del y_train\n",
    "      del y_val\n",
    "      del train_ds\n",
    "      del valid_ds\n",
    "      gc.collect()\n",
    "      # if index == 3:\n",
    "      #     break"
   ]
  },
  {
   "cell_type": "code",
   "execution_count": null,
   "metadata": {
    "id": "FmbbFOKEZgek"
   },
   "outputs": [],
   "source": [
    "for index, model in enumerate(models):\n",
    "  model.save(base_dir + f'model_{index}_5Models_5Folds_OOV800_small')\n"
   ]
  },
  {
   "cell_type": "markdown",
   "metadata": {
    "id": "low3Wwk0X754",
    "papermill": {
     "duration": 2.11441,
     "end_time": "2022-01-25T15:47:27.649127",
     "exception": false,
     "start_time": "2022-01-25T15:47:25.534717",
     "status": "completed"
    },
    "tags": []
   },
   "source": [
    "## Submission"
   ]
  },
  {
   "cell_type": "code",
   "execution_count": null,
   "metadata": {
    "execution": {
     "iopub.execute_input": "2022-02-18T02:29:58.317082Z",
     "iopub.status.busy": "2022-02-18T02:29:58.3166Z",
     "iopub.status.idle": "2022-02-18T02:29:58.325086Z",
     "shell.execute_reply": "2022-02-18T02:29:58.324295Z",
     "shell.execute_reply.started": "2022-02-18T02:29:58.31703Z"
    },
    "id": "k8VqASUBX755",
    "papermill": {
     "duration": 1.80736,
     "end_time": "2022-01-25T15:47:31.24096",
     "exception": false,
     "start_time": "2022-01-25T15:47:29.4336",
     "status": "completed"
    },
    "tags": []
   },
   "outputs": [],
   "source": [
    "def preprocess_test(investment_id, feature):\n",
    "    return (investment_id, feature), 0\n",
    "def make_test_dataset(feature, investment_id, batch_size=1024):\n",
    "    ds = tf.data.Dataset.from_tensor_slices(((investment_id, feature)))\n",
    "    ds = ds.map(preprocess_test)\n",
    "    ds = ds.batch(batch_size).cache().prefetch(tf.data.experimental.AUTOTUNE)\n",
    "    return ds\n",
    "def inference(models, ds):\n",
    "    y_preds = []\n",
    "    for model in models:\n",
    "        y_pred = model.predict(ds)\n",
    "        y_preds.append(y_pred)\n",
    "    return np.mean(y_preds, axis=0)"
   ]
  },
  {
   "cell_type": "code",
   "execution_count": null,
   "metadata": {
    "execution": {
     "iopub.execute_input": "2022-02-18T02:29:58.346076Z",
     "iopub.status.busy": "2022-02-18T02:29:58.345636Z",
     "iopub.status.idle": "2022-02-18T02:29:58.722053Z",
     "shell.execute_reply": "2022-02-18T02:29:58.721207Z",
     "shell.execute_reply.started": "2022-02-18T02:29:58.345918Z"
    },
    "id": "iHRc8zqCX755",
    "papermill": {
     "duration": 2.234161,
     "end_time": "2022-01-25T15:47:35.24214",
     "exception": false,
     "start_time": "2022-01-25T15:47:33.007979",
     "status": "completed"
    },
    "tags": []
   },
   "outputs": [],
   "source": [
    "import ubiquant\n",
    "env = ubiquant.make_env()\n",
    "iter_test = env.iter_test() \n",
    "for (test_df, sample_prediction_df) in iter_test:\n",
    "    ds = make_test_dataset(test_df[features], test_df[\"investment_id\"])\n",
    "    sample_prediction_df['target'] = inference(models, ds)\n",
    "    env.predict(sample_prediction_df) "
   ]
  }
 ],
 "metadata": {
  "accelerator": "GPU",
  "colab": {
   "collapsed_sections": [],
   "machine_shape": "hm",
   "name": "Ubiquant_final_notebook.ipynb",
   "provenance": []
  },
  "kernelspec": {
   "display_name": "Python 3",
   "language": "python",
   "name": "python3"
  },
  "language_info": {
   "codemirror_mode": {
    "name": "ipython",
    "version": 3
   },
   "file_extension": ".py",
   "mimetype": "text/x-python",
   "name": "python",
   "nbconvert_exporter": "python",
   "pygments_lexer": "ipython3",
   "version": "3.8.2"
  }
 },
 "nbformat": 4,
 "nbformat_minor": 1
}
